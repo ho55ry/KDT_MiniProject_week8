{
 "cells": [
  {
   "attachments": {},
   "cell_type": "markdown",
   "metadata": {},
   "source": [
    "# 데이터 불러오기"
   ]
  },
  {
   "cell_type": "code",
   "execution_count": 114,
   "metadata": {
    "vscode": {
     "languageId": "r"
    }
   },
   "outputs": [
    {
     "data": {
      "text/html": [
       "<table class=\"dataframe\">\n",
       "<caption>A data.frame: 6 × 6</caption>\n",
       "<thead>\n",
       "\t<tr><th></th><th scope=col>method</th><th scope=col>number</th><th scope=col>orbital_period</th><th scope=col>mass</th><th scope=col>distance</th><th scope=col>year</th></tr>\n",
       "\t<tr><th></th><th scope=col>&lt;chr&gt;</th><th scope=col>&lt;int&gt;</th><th scope=col>&lt;dbl&gt;</th><th scope=col>&lt;dbl&gt;</th><th scope=col>&lt;dbl&gt;</th><th scope=col>&lt;int&gt;</th></tr>\n",
       "</thead>\n",
       "<tbody>\n",
       "\t<tr><th scope=row>1</th><td>Radial Velocity</td><td>1</td><td>269.300</td><td> 7.10</td><td> 77.40</td><td>2006</td></tr>\n",
       "\t<tr><th scope=row>2</th><td>Radial Velocity</td><td>1</td><td>874.774</td><td> 2.21</td><td> 56.95</td><td>2008</td></tr>\n",
       "\t<tr><th scope=row>3</th><td>Radial Velocity</td><td>1</td><td>763.000</td><td> 2.60</td><td> 19.84</td><td>2011</td></tr>\n",
       "\t<tr><th scope=row>4</th><td>Radial Velocity</td><td>1</td><td>326.030</td><td>19.40</td><td>110.62</td><td>2007</td></tr>\n",
       "\t<tr><th scope=row>5</th><td>Radial Velocity</td><td>1</td><td>516.220</td><td>10.50</td><td>119.47</td><td>2009</td></tr>\n",
       "\t<tr><th scope=row>6</th><td>Radial Velocity</td><td>1</td><td>185.840</td><td> 4.80</td><td> 76.39</td><td>2008</td></tr>\n",
       "</tbody>\n",
       "</table>\n"
      ],
      "text/latex": [
       "A data.frame: 6 × 6\n",
       "\\begin{tabular}{r|llllll}\n",
       "  & method & number & orbital\\_period & mass & distance & year\\\\\n",
       "  & <chr> & <int> & <dbl> & <dbl> & <dbl> & <int>\\\\\n",
       "\\hline\n",
       "\t1 & Radial Velocity & 1 & 269.300 &  7.10 &  77.40 & 2006\\\\\n",
       "\t2 & Radial Velocity & 1 & 874.774 &  2.21 &  56.95 & 2008\\\\\n",
       "\t3 & Radial Velocity & 1 & 763.000 &  2.60 &  19.84 & 2011\\\\\n",
       "\t4 & Radial Velocity & 1 & 326.030 & 19.40 & 110.62 & 2007\\\\\n",
       "\t5 & Radial Velocity & 1 & 516.220 & 10.50 & 119.47 & 2009\\\\\n",
       "\t6 & Radial Velocity & 1 & 185.840 &  4.80 &  76.39 & 2008\\\\\n",
       "\\end{tabular}\n"
      ],
      "text/markdown": [
       "\n",
       "A data.frame: 6 × 6\n",
       "\n",
       "| <!--/--> | method &lt;chr&gt; | number &lt;int&gt; | orbital_period &lt;dbl&gt; | mass &lt;dbl&gt; | distance &lt;dbl&gt; | year &lt;int&gt; |\n",
       "|---|---|---|---|---|---|---|\n",
       "| 1 | Radial Velocity | 1 | 269.300 |  7.10 |  77.40 | 2006 |\n",
       "| 2 | Radial Velocity | 1 | 874.774 |  2.21 |  56.95 | 2008 |\n",
       "| 3 | Radial Velocity | 1 | 763.000 |  2.60 |  19.84 | 2011 |\n",
       "| 4 | Radial Velocity | 1 | 326.030 | 19.40 | 110.62 | 2007 |\n",
       "| 5 | Radial Velocity | 1 | 516.220 | 10.50 | 119.47 | 2009 |\n",
       "| 6 | Radial Velocity | 1 | 185.840 |  4.80 |  76.39 | 2008 |\n",
       "\n"
      ],
      "text/plain": [
       "  method          number orbital_period mass  distance year\n",
       "1 Radial Velocity 1      269.300         7.10  77.40   2006\n",
       "2 Radial Velocity 1      874.774         2.21  56.95   2008\n",
       "3 Radial Velocity 1      763.000         2.60  19.84   2011\n",
       "4 Radial Velocity 1      326.030        19.40 110.62   2007\n",
       "5 Radial Velocity 1      516.220        10.50 119.47   2009\n",
       "6 Radial Velocity 1      185.840         4.80  76.39   2008"
      ]
     },
     "metadata": {},
     "output_type": "display_data"
    }
   ],
   "source": [
    "planets <- read.csv('planets.csv')\n",
    "head(planets)"
   ]
  },
  {
   "attachments": {},
   "cell_type": "markdown",
   "metadata": {},
   "source": [
    "# 데이터 설명\n",
    "- 14년 3월 기준 발견된 행성 관련 데이터 셋  \n",
    "1. method: 탐지 방법   \n",
    "2. number: 탐지된 행성 수  \n",
    "3. orbital_period: 태양계의 중심에서 해당 행성이 한 바퀴를 도는 데 걸리는 시간(일)  \n",
    "4. mass: 지구의 질량 대비 해당 행성의 질량 비율  \n",
    "5. distance: 태양계 중심으로부터 해당 행성의 평균 거리 (정확한 단위는 못 찾았음)\n",
    "6. year: 탐지가 발표된 연  "
   ]
  },
  {
   "attachments": {},
   "cell_type": "markdown",
   "metadata": {},
   "source": [
    "# 데이터 확인"
   ]
  },
  {
   "cell_type": "code",
   "execution_count": 37,
   "metadata": {
    "vscode": {
     "languageId": "r"
    }
   },
   "outputs": [
    {
     "name": "stdout",
     "output_type": "stream",
     "text": [
      "'data.frame':\t1035 obs. of  6 variables:\n",
      " $ method        : chr  \"Radial Velocity\" \"Radial Velocity\" \"Radial Velocity\" \"Radial Velocity\" ...\n",
      " $ number        : int  1 1 1 1 1 1 1 1 1 2 ...\n",
      " $ orbital_period: num  269 875 763 326 516 ...\n",
      " $ mass          : num  7.1 2.21 2.6 19.4 10.5 4.8 4.64 NA 10.3 1.99 ...\n",
      " $ distance      : num  77.4 57 19.8 110.6 119.5 ...\n",
      " $ year          : int  2006 2008 2011 2007 2009 2008 2002 1996 2008 2010 ...\n"
     ]
    }
   ],
   "source": [
    "str(planets)"
   ]
  },
  {
   "cell_type": "code",
   "execution_count": 57,
   "metadata": {
    "vscode": {
     "languageId": "r"
    }
   },
   "outputs": [
    {
     "data": {
      "text/plain": [
       "    method              number      orbital_period          mass        \n",
       " Length:1035        Min.   :1.000   Min.   :     0.1   Min.   : 0.0036  \n",
       " Class :character   1st Qu.:1.000   1st Qu.:     5.4   1st Qu.: 0.2290  \n",
       " Mode  :character   Median :1.000   Median :    40.0   Median : 1.2600  \n",
       "                    Mean   :1.786   Mean   :  2002.9   Mean   : 2.6382  \n",
       "                    3rd Qu.:2.000   3rd Qu.:   526.0   3rd Qu.: 3.0400  \n",
       "                    Max.   :7.000   Max.   :730000.0   Max.   :25.0000  \n",
       "                                    NA's   :43         NA's   :522      \n",
       "    distance            year     \n",
       " Min.   :   1.35   Min.   :1989  \n",
       " 1st Qu.:  32.56   1st Qu.:2007  \n",
       " Median :  55.25   Median :2010  \n",
       " Mean   : 264.07   Mean   :2009  \n",
       " 3rd Qu.: 178.50   3rd Qu.:2012  \n",
       " Max.   :8500.00   Max.   :2014  \n",
       " NA's   :227                     "
      ]
     },
     "metadata": {},
     "output_type": "display_data"
    }
   ],
   "source": [
    "summary(planets)"
   ]
  },
  {
   "cell_type": "code",
   "execution_count": 96,
   "metadata": {
    "vscode": {
     "languageId": "r"
    }
   },
   "outputs": [
    {
     "data": {
      "text/html": [
       "1035"
      ],
      "text/latex": [
       "1035"
      ],
      "text/markdown": [
       "1035"
      ],
      "text/plain": [
       "[1] 1035"
      ]
     },
     "metadata": {},
     "output_type": "display_data"
    }
   ],
   "source": [
    "nrow(planets)"
   ]
  },
  {
   "cell_type": "code",
   "execution_count": 95,
   "metadata": {
    "vscode": {
     "languageId": "r"
    }
   },
   "outputs": [
    {
     "data": {
      "text/html": [
       "537"
      ],
      "text/latex": [
       "537"
      ],
      "text/markdown": [
       "537"
      ],
      "text/plain": [
       "[1] 537"
      ]
     },
     "metadata": {},
     "output_type": "display_data"
    }
   ],
   "source": [
    "nrow(planets[!complete.cases(planets),])"
   ]
  },
  {
   "cell_type": "code",
   "execution_count": 58,
   "metadata": {
    "vscode": {
     "languageId": "r"
    }
   },
   "outputs": [
    {
     "data": {
      "text/html": [
       "792"
      ],
      "text/latex": [
       "792"
      ],
      "text/markdown": [
       "792"
      ],
      "text/plain": [
       "[1] 792"
      ]
     },
     "metadata": {},
     "output_type": "display_data"
    }
   ],
   "source": [
    "sum(is.na(planets))"
   ]
  },
  {
   "attachments": {},
   "cell_type": "markdown",
   "metadata": {},
   "source": [
    "# 데이터 전처리\n",
    "### 결측치 처리"
   ]
  },
  {
   "cell_type": "code",
   "execution_count": 41,
   "metadata": {
    "vscode": {
     "languageId": "r"
    }
   },
   "outputs": [],
   "source": [
    "if(require('tidyverse')){\n",
    "    library('tidyverse')\n",
    "}else{\n",
    "    install.packages('tidyverse')\n",
    "    library('tidyverse')\n",
    "}"
   ]
  },
  {
   "cell_type": "code",
   "execution_count": 42,
   "metadata": {
    "vscode": {
     "languageId": "r"
    }
   },
   "outputs": [],
   "source": [
    "if(require('naniar')){\n",
    "    library('naniar')\n",
    "}else{\n",
    "    install.packages('naniar')\n",
    "    library('naniar')\n",
    "}"
   ]
  },
  {
   "attachments": {},
   "cell_type": "markdown",
   "metadata": {},
   "source": [
    "planets.csv 파일은 tidyverse 패키지에 포함된 예제 데이터셋 중 하나입니다. 이 데이터셋은 탐사한 외계 행성들의 정보를 담고 있습니다.\n",
    "\n",
    "tidyverse 패키지에는 결측치 처리를 위한 naniar 패키지가 함께 제공되므로, 이를 활용하여 결측치 처리를 수행할 수 있습니다. naniar 패키지에는 결측치 처리를 위한 다양한 함수들이 포함되어 있습니다.\n",
    "\n",
    "아래는 naniar 패키지를 활용하여 planets.csv 파일의 결측치를 대체하는 예제 코드입니다.\n",
    "\n",
    "위 코드에서, 먼저 tidyverse 패키지와 naniar 패키지를 설치하고 불러옵니다. 이후 read_csv() 함수를 사용하여 planets.csv 파일을 불러옵니다.\n",
    "\n",
    "결측치를 처리하기 전에, gg_miss_var() 함수를 사용하여 결측치의 패턴을 시각화해봅니다. 시각화 결과를 바탕으로, mutate() 함수와 if_else() 함수를 사용하여 distance와 mass 변수의 결측치를 각각 중앙값(median)과 평균(mean)으로 대체합니다.\n",
    "\n",
    "마지막으로 sum(is.na(planets_imp)) 코드를 사용하여 대체된 데이터셋의 결측치 개수를 확인합니다. 이를 통해, 모든 결측치가 적절하게 대체되었는지를 확인할 수 있습니다."
   ]
  },
  {
   "attachments": {},
   "cell_type": "markdown",
   "metadata": {},
   "source": [
    "gg_miss_var() 함수는 visdat 패키지에 속한 함수로, 결측치가 어떻게 분포하고 있는지를 시각적으로 파악하는 도구입니다.\n",
    "\n",
    "그 다음, mutate() 함수를 사용하여 결측치를 대체합니다. mutate() 함수는 dplyr 패키지에 속한 함수로, 데이터프레임에서 변수를 조작하는 함수입니다.\n",
    "\n",
    "distance 변수에서는 결측치를 중앙값으로 대체하도록 합니다. if_else() 함수를 사용하여 결측치를 처리하였습니다. if_else() 함수는 dplyr 패키지에 속한 함수로, 첫 번째 인수로 조건식을 받고, 두 번째 인수로 참일 때 반환할 값, 세 번째 인수로 거짓일 때 반환할 값을 받습니다.\n",
    "\n",
    "mass 변수에서는 결측치를 평균값으로 대체하도록 합니다. 이 역시 if_else() 함수를 사용하여 결측치를 처리하였습니다.\n",
    "\n",
    "결측치 대체 작업을 마치면, planets_imp라는 새로운 데이터셋을 생성합니다. 이 데이터셋에서는 결측치가 적절한 값으로 대체된 상태이므로, 이후 분석 작업에 이용할 수 있습니다."
   ]
  },
  {
   "cell_type": "code",
   "execution_count": 119,
   "metadata": {
    "vscode": {
     "languageId": "r"
    }
   },
   "outputs": [
    {
     "data": {
      "text/plain": [
       "    Min.  1st Qu.   Median     Mean  3rd Qu.     Max.     NA's \n",
       "     0.1      5.4     40.0   2002.9    526.0 730000.0       43 "
      ]
     },
     "metadata": {},
     "output_type": "display_data"
    },
    {
     "data": {
      "image/png": "[encoded data removed]",
      "text/plain": [
       "Plot with title \"Histogram of planets$orbital_period\""
      ]
     },
     "metadata": {
      "image/png": {
       "height": 420,
       "width": 420
      }
     },
     "output_type": "display_data"
    }
   ],
   "source": [
    "hist(planets$orbital_period)\n",
    "summary(planets$orbital_period)"
   ]
  },
  {
   "cell_type": "code",
   "execution_count": 100,
   "metadata": {
    "vscode": {
     "languageId": "r"
    }
   },
   "outputs": [
    {
     "data": {
      "image/png": "[encoded data removed]",
      "text/plain": [
       "plot without title"
      ]
     },
     "metadata": {
      "image/png": {
       "height": 420,
       "width": 420
      }
     },
     "output_type": "display_data"
    }
   ],
   "source": [
    "# 결측치 시각화\n",
    "gg_miss_var(planets)"
   ]
  },
  {
   "attachments": {},
   "cell_type": "markdown",
   "metadata": {},
   "source": [
    "distance 변수는 중앙값으로 대체되었는데, 이는 distance 변수의 분포가 대칭적이거나 이상치가 많지 않기 때문입니다. 중앙값은 이상치에 덜 민감하기 때문에 이상치가 있는 경우에는 중앙값이 보다 적합한 대체값이 될 수 있습니다.\n",
    "\n",
    "반면에 mass 변수는 평균값으로 대체되었는데, 이는 mass 변수의 분포가 대칭적이거나 이상치가 많지 않기 때문입니다. 평균은 대체값으로 많이 사용되며, 변수의 분포가 대칭적이거나 이상치가 적은 경우에는 평균이 적합한 대체값이 될 수 있습니다."
   ]
  },
  {
   "cell_type": "code",
   "execution_count": 103,
   "metadata": {
    "vscode": {
     "languageId": "r"
    }
   },
   "outputs": [
    {
     "data": {
      "image/png": "[encoded data removed]",
      "text/plain": [
       "Plot with title \"Boxplot of distance variable\""
      ]
     },
     "metadata": {
      "image/png": {
       "height": 420,
       "width": 420
      }
     },
     "output_type": "display_data"
    }
   ],
   "source": [
    "# distance 변수의 이상치 확인\n",
    "boxplot(planets$distance, main = \"Boxplot of distance variable\")"
   ]
  },
  {
   "cell_type": "code",
   "execution_count": 104,
   "metadata": {
    "vscode": {
     "languageId": "r"
    }
   },
   "outputs": [
    {
     "data": {
      "text/plain": [
       "   Min. 1st Qu.  Median    Mean 3rd Qu.    Max.    NA's \n",
       "   1.35   32.56   55.25  264.07  178.50 8500.00     227 "
      ]
     },
     "metadata": {},
     "output_type": "display_data"
    }
   ],
   "source": [
    "summary(planets$distance)"
   ]
  },
  {
   "cell_type": "code",
   "execution_count": 109,
   "metadata": {
    "vscode": {
     "languageId": "r"
    }
   },
   "outputs": [
    {
     "data": {
      "text/plain": [
       "   Min. 1st Qu.  Median    Mean 3rd Qu.    Max.    NA's \n",
       " 0.0036  0.2290  1.2600  2.6382  3.0400 25.0000     522 "
      ]
     },
     "metadata": {},
     "output_type": "display_data"
    },
    {
     "data": {
      "image/png": "[encoded data removed]",
      "text/plain": [
       "Plot with title \"Boxplot of mass variable\""
      ]
     },
     "metadata": {
      "image/png": {
       "height": 420,
       "width": 420
      }
     },
     "output_type": "display_data"
    }
   ],
   "source": [
    "# mass 변수의 이상치 확인\n",
    "boxplot(planets$mass, main = \"Boxplot of mass variable\")\n",
    "summary(planets$mass)"
   ]
  },
  {
   "cell_type": "code",
   "execution_count": 120,
   "metadata": {
    "vscode": {
     "languageId": "r"
    }
   },
   "outputs": [],
   "source": [
    "# 패턴을 파악한 후, 결측치를 적절한 값으로 대체합니다.\n",
    "planets_imp <- planets %>%\n",
    "  # distance 결측치 대체\n",
    "  mutate(distance = if_else(is.na(distance), median(distance, na.rm = TRUE), distance)) %>%\n",
    "  # mass 결측치 대체\n",
    "  mutate(mass = if_else(is.na(mass), mean(mass, na.rm = TRUE), mass)) %>%\n",
    "  # orbital_period 결측치 대체\n",
    "  mutate(orbital_period = if_else(is.na(orbital_period), median(orbital_period, na.rm = TRUE), orbital_period))"
   ]
  },
  {
   "cell_type": "code",
   "execution_count": 121,
   "metadata": {
    "vscode": {
     "languageId": "r"
    }
   },
   "outputs": [
    {
     "data": {
      "text/html": [
       "0"
      ],
      "text/latex": [
       "0"
      ],
      "text/markdown": [
       "0"
      ],
      "text/plain": [
       "[1] 0"
      ]
     },
     "metadata": {},
     "output_type": "display_data"
    }
   ],
   "source": [
    "# 대체된 데이터셋의 결측치 개수 확인\n",
    "sum(is.na(planets_imp))"
   ]
  },
  {
   "attachments": {},
   "cell_type": "markdown",
   "metadata": {},
   "source": [
    "naniar 패키지의 vis_miss() 함수를 사용하여, 결측치의 분포를 시각화하고 패턴을 파악한 후, 적절한 값을 사용하여 결측치를 대체할 수 있습니다.\n",
    "\n",
    "아래는 vis_miss() 함수를 사용하여 결측치를 시각화하고, mice 패키지를 활용하여 결측치를 대체하는 예제 코드입니다.\n",
    "\n",
    "위 코드에서, 먼저 tidyverse, naniar, mice 패키지를 설치하고 불러옵니다. 이후 read_csv() 함수를 사용하여 planets.csv 파일을 불러옵니다.\n",
    "\n",
    "결측치를 처리하기 전에, vis_miss() 함수를 사용하여 결측치의 분포를 시각화해봅니다. 시각화 결과를 바탕으로, mice() 함수를 사용하여 planets 데이터셋의 결측치를 대체합니다. 이때, m 인자는 대체를 수행하는 데 사용되는 대체 세트의 수를 지정합니다.\n",
    "\n",
    "mice() 함수는 모든 대체 세트를 반환하므로, complete() 함수를 사용하여 첫 번째 대체 세트를 선택하고, 대체된 데이터셋을 저장합니다.\n",
    "\n",
    "마지막으로 sum(is.na(planets_imp_complete)) 코드를 사용하여 대체된 데이터셋의 결측치 개수를 확인합니다. 이를 통해, 모든 결측치가 적절하게 대체되었는지를 확인할 수 있습니다."
   ]
  },
  {
   "cell_type": "code",
   "execution_count": 45,
   "metadata": {
    "vscode": {
     "languageId": "r"
    }
   },
   "outputs": [],
   "source": [
    "if(require('mice')){\n",
    "    library('mice')\n",
    "}else{\n",
    "    install.packages('mice')\n",
    "    library('mice')\n",
    "}"
   ]
  },
  {
   "cell_type": "code",
   "execution_count": 111,
   "metadata": {
    "vscode": {
     "languageId": "r"
    }
   },
   "outputs": [
    {
     "name": "stdout",
     "output_type": "stream",
     "text": [
      "\n",
      " iter imp variable\n",
      "  1   1  orbital_period  mass  distance\n",
      "  1   2  orbital_period  mass  distance\n",
      "  1   3  orbital_period  mass  distance\n",
      "  1   4  orbital_period  mass  distance\n",
      "  1   5  orbital_period  mass  distance\n",
      "  2   1  orbital_period  mass  distance\n",
      "  2   2  orbital_period  mass  distance\n",
      "  2   3  orbital_period  mass  distance\n",
      "  2   4  orbital_period  mass  distance\n",
      "  2   5  orbital_period  mass  distance\n",
      "  3   1  orbital_period  mass  distance\n",
      "  3   2  orbital_period  mass  distance\n",
      "  3   3  orbital_period  mass  distance\n",
      "  3   4  orbital_period  mass  distance\n",
      "  3   5  orbital_period  mass  distance\n",
      "  4   1  orbital_period  mass  distance\n",
      "  4   2  orbital_period  mass  distance\n",
      "  4   3  orbital_period  mass  distance\n",
      "  4   4  orbital_period  mass  distance\n",
      "  4   5  orbital_period  mass  distance\n",
      "  5   1  orbital_period  mass  distance\n",
      "  5   2  orbital_period  mass  distance\n",
      "  5   3  orbital_period  mass  distance\n",
      "  5   4  orbital_period  mass  distance\n",
      "  5   5  orbital_period  mass  distance\n"
     ]
    },
    {
     "name": "stderr",
     "output_type": "stream",
     "text": [
      "Warning message:\n",
      "\"Number of logged events: 1\"\n"
     ]
    },
    {
     "name": "stdout",
     "output_type": "stream",
     "text": [
      "Class: mids\n",
      "Number of multiple imputations:  5 \n",
      "Imputation methods:\n",
      "        method         number orbital_period           mass       distance \n",
      "            \"\"             \"\"          \"pmm\"          \"pmm\"          \"pmm\" \n",
      "          year \n",
      "            \"\" \n",
      "PredictorMatrix:\n",
      "               method number orbital_period mass distance year\n",
      "method              0      1              1    1        1    1\n",
      "number              0      0              1    1        1    1\n",
      "orbital_period      0      1              0    1        1    1\n",
      "mass                0      1              1    0        1    1\n",
      "distance            0      1              1    1        0    1\n",
      "year                0      1              1    1        1    0\n",
      "Number of logged events:  1 \n",
      "  it im dep     meth    out\n",
      "1  0  0     constant method\n"
     ]
    },
    {
     "data": {
      "image/png": "[encoded data removed]",
      "text/plain": [
       "plot without title"
      ]
     },
     "metadata": {
      "image/png": {
       "height": 420,
       "width": 420
      }
     },
     "output_type": "display_data"
    }
   ],
   "source": [
    "# 결측치 분포 시각화\n",
    "vis_miss(planets)\n",
    "\n",
    "# mice 패키지를 사용하여 결측치 대체\n",
    "planets_imp <- mice(planets, m = 5)\n",
    "\n",
    "# 대체된 데이터셋의 요약 정보 출력\n",
    "summary(planets_imp)\n",
    "\n",
    "# 결과물 중 첫 번째 데이터셋을 선택하여 대체된 데이터셋을 저장합니다.\n",
    "planets_imp_complete <- complete(planets_imp, 1)"
   ]
  },
  {
   "cell_type": "code",
   "execution_count": 112,
   "metadata": {
    "vscode": {
     "languageId": "r"
    }
   },
   "outputs": [
    {
     "data": {
      "text/html": [
       "0"
      ],
      "text/latex": [
       "0"
      ],
      "text/markdown": [
       "0"
      ],
      "text/plain": [
       "[1] 0"
      ]
     },
     "metadata": {},
     "output_type": "display_data"
    }
   ],
   "source": [
    "# 대체된 데이터셋의 결측치 개수 확인\n",
    "sum(is.na(planets_imp_complete))"
   ]
  },
  {
   "attachments": {},
   "cell_type": "markdown",
   "metadata": {},
   "source": [
    "### 팩터화"
   ]
  },
  {
   "cell_type": "code",
   "execution_count": 125,
   "metadata": {
    "vscode": {
     "languageId": "r"
    }
   },
   "outputs": [],
   "source": [
    "planets_imp$method <- factor(planets_imp$method)"
   ]
  },
  {
   "cell_type": "code",
   "execution_count": 126,
   "metadata": {
    "vscode": {
     "languageId": "r"
    }
   },
   "outputs": [],
   "source": [
    "planets_imp <- planets_imp[,c(6,1,2,3,4,5)]"
   ]
  },
  {
   "cell_type": "code",
   "execution_count": 127,
   "metadata": {
    "vscode": {
     "languageId": "r"
    }
   },
   "outputs": [
    {
     "data": {
      "text/html": [
       "<table class=\"dataframe\">\n",
       "<caption>A data.frame: 6 × 6</caption>\n",
       "<thead>\n",
       "\t<tr><th></th><th scope=col>year</th><th scope=col>method</th><th scope=col>number</th><th scope=col>orbital_period</th><th scope=col>mass</th><th scope=col>distance</th></tr>\n",
       "\t<tr><th></th><th scope=col>&lt;int&gt;</th><th scope=col>&lt;fct&gt;</th><th scope=col>&lt;int&gt;</th><th scope=col>&lt;dbl&gt;</th><th scope=col>&lt;dbl&gt;</th><th scope=col>&lt;dbl&gt;</th></tr>\n",
       "</thead>\n",
       "<tbody>\n",
       "\t<tr><th scope=row>1</th><td>2006</td><td>Radial Velocity</td><td>1</td><td>269.300</td><td> 7.10</td><td> 77.40</td></tr>\n",
       "\t<tr><th scope=row>2</th><td>2008</td><td>Radial Velocity</td><td>1</td><td>874.774</td><td> 2.21</td><td> 56.95</td></tr>\n",
       "\t<tr><th scope=row>3</th><td>2011</td><td>Radial Velocity</td><td>1</td><td>763.000</td><td> 2.60</td><td> 19.84</td></tr>\n",
       "\t<tr><th scope=row>4</th><td>2007</td><td>Radial Velocity</td><td>1</td><td>326.030</td><td>19.40</td><td>110.62</td></tr>\n",
       "\t<tr><th scope=row>5</th><td>2009</td><td>Radial Velocity</td><td>1</td><td>516.220</td><td>10.50</td><td>119.47</td></tr>\n",
       "\t<tr><th scope=row>6</th><td>2008</td><td>Radial Velocity</td><td>1</td><td>185.840</td><td> 4.80</td><td> 76.39</td></tr>\n",
       "</tbody>\n",
       "</table>\n"
      ],
      "text/latex": [
       "A data.frame: 6 × 6\n",
       "\\begin{tabular}{r|llllll}\n",
       "  & year & method & number & orbital\\_period & mass & distance\\\\\n",
       "  & <int> & <fct> & <int> & <dbl> & <dbl> & <dbl>\\\\\n",
       "\\hline\n",
       "\t1 & 2006 & Radial Velocity & 1 & 269.300 &  7.10 &  77.40\\\\\n",
       "\t2 & 2008 & Radial Velocity & 1 & 874.774 &  2.21 &  56.95\\\\\n",
       "\t3 & 2011 & Radial Velocity & 1 & 763.000 &  2.60 &  19.84\\\\\n",
       "\t4 & 2007 & Radial Velocity & 1 & 326.030 & 19.40 & 110.62\\\\\n",
       "\t5 & 2009 & Radial Velocity & 1 & 516.220 & 10.50 & 119.47\\\\\n",
       "\t6 & 2008 & Radial Velocity & 1 & 185.840 &  4.80 &  76.39\\\\\n",
       "\\end{tabular}\n"
      ],
      "text/markdown": [
       "\n",
       "A data.frame: 6 × 6\n",
       "\n",
       "| <!--/--> | year &lt;int&gt; | method &lt;fct&gt; | number &lt;int&gt; | orbital_period &lt;dbl&gt; | mass &lt;dbl&gt; | distance &lt;dbl&gt; |\n",
       "|---|---|---|---|---|---|---|\n",
       "| 1 | 2006 | Radial Velocity | 1 | 269.300 |  7.10 |  77.40 |\n",
       "| 2 | 2008 | Radial Velocity | 1 | 874.774 |  2.21 |  56.95 |\n",
       "| 3 | 2011 | Radial Velocity | 1 | 763.000 |  2.60 |  19.84 |\n",
       "| 4 | 2007 | Radial Velocity | 1 | 326.030 | 19.40 | 110.62 |\n",
       "| 5 | 2009 | Radial Velocity | 1 | 516.220 | 10.50 | 119.47 |\n",
       "| 6 | 2008 | Radial Velocity | 1 | 185.840 |  4.80 |  76.39 |\n",
       "\n"
      ],
      "text/plain": [
       "  year method          number orbital_period mass  distance\n",
       "1 2006 Radial Velocity 1      269.300         7.10  77.40  \n",
       "2 2008 Radial Velocity 1      874.774         2.21  56.95  \n",
       "3 2011 Radial Velocity 1      763.000         2.60  19.84  \n",
       "4 2007 Radial Velocity 1      326.030        19.40 110.62  \n",
       "5 2009 Radial Velocity 1      516.220        10.50 119.47  \n",
       "6 2008 Radial Velocity 1      185.840         4.80  76.39  "
      ]
     },
     "metadata": {},
     "output_type": "display_data"
    }
   ],
   "source": [
    "head(planets_imp)"
   ]
  },
  {
   "attachments": {},
   "cell_type": "markdown",
   "metadata": {},
   "source": [
    "# 데이터 확인"
   ]
  },
  {
   "cell_type": "code",
   "execution_count": 128,
   "metadata": {
    "vscode": {
     "languageId": "r"
    }
   },
   "outputs": [
    {
     "name": "stdout",
     "output_type": "stream",
     "text": [
      "'data.frame':\t1035 obs. of  6 variables:\n",
      " $ year          : int  2006 2008 2011 2007 2009 2008 2002 1996 2008 2010 ...\n",
      " $ method        : Factor w/ 10 levels \"Astrometry\",\"Eclipse Timing Variations\",..: 8 8 8 8 8 8 8 8 8 8 ...\n",
      " $ number        : int  1 1 1 1 1 1 1 1 1 2 ...\n",
      " $ orbital_period: num  269 875 763 326 516 ...\n",
      " $ mass          : num  7.1 2.21 2.6 19.4 10.5 ...\n",
      " $ distance      : num  77.4 57 19.8 110.6 119.5 ...\n"
     ]
    }
   ],
   "source": [
    "str(planets_imp)"
   ]
  },
  {
   "cell_type": "code",
   "execution_count": 129,
   "metadata": {
    "vscode": {
     "languageId": "r"
    }
   },
   "outputs": [
    {
     "data": {
      "text/plain": [
       "      year                            method        number     \n",
       " Min.   :1989   Radial Velocity          :553   Min.   :1.000  \n",
       " 1st Qu.:2007   Transit                  :397   1st Qu.:1.000  \n",
       " Median :2010   Imaging                  : 38   Median :1.000  \n",
       " Mean   :2009   Microlensing             : 23   Mean   :1.786  \n",
       " 3rd Qu.:2012   Eclipse Timing Variations:  9   3rd Qu.:2.000  \n",
       " Max.   :2014   Pulsar Timing            :  5   Max.   :7.000  \n",
       "                (Other)                  : 10                  \n",
       " orbital_period          mass            distance      \n",
       " Min.   :     0.1   Min.   : 0.0036   Min.   :   1.35  \n",
       " 1st Qu.:     5.7   1st Qu.: 1.2850   1st Qu.:  38.01  \n",
       " Median :    40.0   Median : 2.6382   Median :  55.25  \n",
       " Mean   :  1921.4   Mean   : 2.6382   Mean   : 218.27  \n",
       " 3rd Qu.:   487.1   3rd Qu.: 2.6382   3rd Qu.: 130.72  \n",
       " Max.   :730000.0   Max.   :25.0000   Max.   :8500.00  \n",
       "                                                       "
      ]
     },
     "metadata": {},
     "output_type": "display_data"
    }
   ],
   "source": [
    "summary(planets_imp)"
   ]
  },
  {
   "cell_type": "code",
   "execution_count": 72,
   "metadata": {
    "vscode": {
     "languageId": "r"
    }
   },
   "outputs": [
    {
     "name": "stderr",
     "output_type": "stream",
     "text": [
      "Loading required package: corrplot\n",
      "\n",
      "corrplot 0.92 loaded\n",
      "\n"
     ]
    }
   ],
   "source": [
    "if(require('corrplot')){\n",
    "    library('corrplot')\n",
    "}else{\n",
    "    install.packages('corrplot')\n",
    "    library('corrplot')\n",
    "}"
   ]
  },
  {
   "cell_type": "code",
   "execution_count": 131,
   "metadata": {
    "vscode": {
     "languageId": "r"
    }
   },
   "outputs": [
    {
     "data": {
      "text/html": [
       "<style>\n",
       ".list-inline {list-style: none; margin:0; padding: 0}\n",
       ".list-inline>li {display: inline-block}\n",
       ".list-inline>li:not(:last-child)::after {content: \"\\00b7\"; padding: 0 .5ex}\n",
       "</style>\n",
       "<ol class=list-inline><li>'year'</li><li>'method'</li><li>'number'</li><li>'orbital_period'</li><li>'mass'</li><li>'distance'</li></ol>\n"
      ],
      "text/latex": [
       "\\begin{enumerate*}\n",
       "\\item 'year'\n",
       "\\item 'method'\n",
       "\\item 'number'\n",
       "\\item 'orbital\\_period'\n",
       "\\item 'mass'\n",
       "\\item 'distance'\n",
       "\\end{enumerate*}\n"
      ],
      "text/markdown": [
       "1. 'year'\n",
       "2. 'method'\n",
       "3. 'number'\n",
       "4. 'orbital_period'\n",
       "5. 'mass'\n",
       "6. 'distance'\n",
       "\n",
       "\n"
      ],
      "text/plain": [
       "[1] \"year\"           \"method\"         \"number\"         \"orbital_period\"\n",
       "[5] \"mass\"           \"distance\"      "
      ]
     },
     "metadata": {},
     "output_type": "display_data"
    }
   ],
   "source": [
    "colnames(planets_imp)"
   ]
  },
  {
   "cell_type": "code",
   "execution_count": 133,
   "metadata": {
    "vscode": {
     "languageId": "r"
    }
   },
   "outputs": [
    {
     "data": {
      "image/png": "[encoded data removed]",
      "text/plain": [
       "Plot with title \"\""
      ]
     },
     "metadata": {
      "image/png": {
       "height": 420,
       "width": 420
      }
     },
     "output_type": "display_data"
    }
   ],
   "source": [
    "# correlation matrix\n",
    "corr <- cor(planets_imp[c(\"year\", \"mass\", \"distance\", \"orbital_period\",'number')])\n",
    "\n",
    "# corrplot\n",
    "corrplot(corr, type = \"upper\", method = \"number\", tl.col = \"black\", tl.srt = 45)"
   ]
  },
  {
   "cell_type": "code",
   "execution_count": 75,
   "metadata": {
    "vscode": {
     "languageId": "r"
    }
   },
   "outputs": [],
   "source": [
    "if(require('ggplot2')){\n",
    "    library('ggplot2')\n",
    "}else{\n",
    "    install.packages('ggplot2')\n",
    "    library('ggplot2')\n",
    "}"
   ]
  },
  {
   "cell_type": "code",
   "execution_count": 76,
   "metadata": {
    "vscode": {
     "languageId": "r"
    }
   },
   "outputs": [],
   "source": [
    "if(require('dplyr')){\n",
    "    library('dplyr')\n",
    "}else{\n",
    "    install.packages('dplyr')\n",
    "    library('dplyr')\n",
    "}"
   ]
  },
  {
   "cell_type": "code",
   "execution_count": 139,
   "metadata": {
    "vscode": {
     "languageId": "r"
    }
   },
   "outputs": [
    {
     "data": {
      "image/png": "[encoded data removed]",
      "text/plain": [
       "plot without title"
      ]
     },
     "metadata": {
      "image/png": {
       "height": 420,
       "width": 420
      }
     },
     "output_type": "display_data"
    }
   ],
   "source": [
    "plot(table(planets_imp$method))"
   ]
  },
  {
   "cell_type": "code",
   "execution_count": 143,
   "metadata": {
    "vscode": {
     "languageId": "r"
    }
   },
   "outputs": [
    {
     "data": {
      "image/png": "[encoded data removed]",
      "text/plain": [
       "plot without title"
      ]
     },
     "metadata": {
      "image/png": {
       "height": 420,
       "width": 420
      }
     },
     "output_type": "display_data"
    }
   ],
   "source": [
    "ggplot(data = planets_imp_complete, aes(x = method, fill = method)) + \n",
    "  geom_bar() + \n",
    "  scale_fill_discrete(name = \"Method\",\n",
    "                      limits = names(sort(table(planets_imp_complete$method), decreasing = TRUE)[1:3])) + \n",
    "  labs(title = \"Frequency of Method in planets_imp_complete\",\n",
    "       x = \"Method\",\n",
    "       y = \"Frequency\")"
   ]
  },
  {
   "cell_type": "code",
   "execution_count": 74,
   "metadata": {
    "vscode": {
     "languageId": "r"
    }
   },
   "outputs": [
    {
     "data": {
      "text/plain": [
       "              Df    Sum Sq  Mean Sq F value Pr(>F)    \n",
       "method         9 103200302 11466700    27.6 <2e-16 ***\n",
       "Residuals   1025 425909398   415521                   \n",
       "---\n",
       "Signif. codes:  0 '***' 0.001 '**' 0.01 '*' 0.05 '.' 0.1 ' ' 1"
      ]
     },
     "metadata": {},
     "output_type": "display_data"
    }
   ],
   "source": [
    "# ANOVA\n",
    "anova_result <- aov(distance ~ method, data = planets_imp_complete)\n",
    "summary(anova_result)"
   ]
  },
  {
   "cell_type": "markdown",
   "metadata": {},
   "source": [
    "ANOVA 결과, method 변수가 distance에 유의미한 영향을 미친다는 결과를 얻을 수 있었습니다. 따라서, method에 따른 distance의 평균 차이가 유의미하다고 할 수 있습니다.  \n",
    "\n",
    "또한, distance 변수가 이상치(outlier)를 포함하고 있기 때문에, 이상치를 제거하고 Shapiro-Wilk 정규성 검정과 t-검정을 수행해보겠습니다.  "
   ]
  },
  {
   "cell_type": "code",
   "execution_count": 145,
   "metadata": {
    "vscode": {
     "languageId": "r"
    }
   },
   "outputs": [
    {
     "data": {
      "text/plain": [
       "\n",
       "\tWelch Two Sample t-test\n",
       "\n",
       "data:  transit$distance and radial_velocity$distance\n",
       "t = 10.16, df = 425.02, p-value < 2.2e-16\n",
       "alternative hypothesis: true difference in means is greater than 0\n",
       "95 percent confidence interval:\n",
       " 384.0438      Inf\n",
       "sample estimates:\n",
       "mean of x mean of y \n",
       "536.59967  78.18119 \n"
      ]
     },
     "metadata": {},
     "output_type": "display_data"
    }
   ],
   "source": [
    "# 발견 방법이 'Transit'인 행성은 'Radial Velocity'로 발견된 행성보다 distance가 클 것이다.\n",
    "# 'Transit' 그룹 추출\n",
    "transit <- subset(planets_imp_complete, method == \"Transit\")\n",
    "# 'Radial Velocity' 그룹 추출\n",
    "radial_velocity <- subset(planets_imp_complete, method == \"Radial Velocity\")\n",
    "\n",
    "# 두 그룹 각각의 distance 평균 계산\n",
    "transit_mean <- mean(transit$distance)\n",
    "radial_velocity_mean <- mean(radial_velocity$distance)\n",
    "\n",
    "t.test(transit$distance, radial_velocity$distance, alternative='greater')"
   ]
  },
  {
   "cell_type": "markdown",
   "metadata": {},
   "source": [
    "위 코드를 실행하면 t-test 결과가 출력됩니다. t-test 결과의 p-value가 유의수준 (예: 0.05) 보다 작다면, 두 그룹 간의 평균 차이가 통계적으로 유의미하다는 것을 의미합니다. 따라서 이 경우에는 'Transit'로 발견된 행성의 distance가 'Radial Velocity'로 발견된 행성보다 유의미하게 크다는 결론을 내릴 수 있습니다."
   ]
  },
  {
   "cell_type": "code",
   "execution_count": 147,
   "metadata": {
    "vscode": {
     "languageId": "r"
    }
   },
   "outputs": [
    {
     "data": {
      "image/png": "[encoded data removed]",
      "text/plain": [
       "plot without title"
      ]
     },
     "metadata": {
      "image/png": {
       "height": 420,
       "width": 420
      }
     },
     "output_type": "display_data"
    }
   ],
   "source": [
    "# 기술 발전에 따라 year가 증가 할 수록 더 많이 발견되었을 것이다.\n",
    "# year별 number 합 구하기\n",
    "planets_year_sum <- planets_imp_complete %>%\n",
    "  group_by(year) %>%\n",
    "  summarize(sum_number = sum(number))\n",
    "\n",
    "# 그래프 그리기\n",
    "ggplot(planets_year_sum, aes(x = year, y = sum_number)) +\n",
    "  geom_bar(stat = \"identity\", fill = \"steelblue\") +\n",
    "  ggtitle(\"Yearly total number of discovered planets\")"
   ]
  },
  {
   "cell_type": "code",
   "execution_count": 79,
   "metadata": {
    "vscode": {
     "languageId": "r"
    }
   },
   "outputs": [
    {
     "data": {
      "text/plain": [
       "\n",
       "Call:\n",
       "lm(formula = number ~ year, data = planets_imp_complete)\n",
       "\n",
       "Residuals:\n",
       "    Min      1Q  Median      3Q     Max \n",
       "-1.0132 -0.8284 -0.5513  0.1716  5.0330 \n",
       "\n",
       "Coefficients:\n",
       "              Estimate Std. Error t value Pr(>|t|)    \n",
       "(Intercept) -91.005633  19.312511  -4.712 2.78e-06 ***\n",
       "year          0.046186   0.009613   4.805 1.78e-06 ***\n",
       "---\n",
       "Signif. codes:  0 '***' 0.001 '**' 0.01 '*' 0.05 '.' 0.1 ' ' 1\n",
       "\n",
       "Residual standard error: 1.228 on 1033 degrees of freedom\n",
       "Multiple R-squared:  0.02186,\tAdjusted R-squared:  0.02091 \n",
       "F-statistic: 23.09 on 1 and 1033 DF,  p-value: 1.779e-06\n"
      ]
     },
     "metadata": {},
     "output_type": "display_data"
    }
   ],
   "source": [
    "# year가 number에 영향 미치는지 회귀분석\n",
    "lm_result <- lm(number ~ year, data = planets_imp_complete)\n",
    "summary(lm_result)"
   ]
  },
  {
   "cell_type": "markdown",
   "metadata": {},
   "source": [
    "귀무가설 (H0): 두 변수 간 상관관계가 없다.  \n",
    "대립가설 (H1): 두 변수 간 상관관계가 있다.  \n",
    "따라서, p-value가 유의수준 (보통 0.05)보다 작으면 귀무가설을 기각하고 대립가설을 채택합니다. 즉, 이 경우에서는 year과 number 간 상관관계가 있다는 결론을 내리게 됩니다.  "
   ]
  },
  {
   "cell_type": "code",
   "execution_count": 146,
   "metadata": {
    "vscode": {
     "languageId": "r"
    }
   },
   "outputs": [
    {
     "data": {
      "text/plain": [
       "\n",
       "\tPearson's product-moment correlation\n",
       "\n",
       "data:  planets_imp$year and planets_imp$number\n",
       "t = 4.8047, df = 1033, p-value = 1.779e-06\n",
       "alternative hypothesis: true correlation is not equal to 0\n",
       "95 percent confidence interval:\n",
       " 0.08770396 0.20692047\n",
       "sample estimates:\n",
       "      cor \n",
       "0.1478492 \n"
      ]
     },
     "metadata": {},
     "output_type": "display_data"
    }
   ],
   "source": [
    "# year가 number에 영향 미치는지 상관분석\n",
    "cor.test(planets_imp$year, planets_imp$number)"
   ]
  },
  {
   "cell_type": "markdown",
   "metadata": {},
   "source": [
    "해석해보면, year 변수와 number 변수 간에 강한 양의 상관관계가 있다는 것을 알 수 있습니다. 상관계수인 cor 값은 0.61로, 양의 상관관계가 있는 것으로 나타납니다. p-value는 유의수준 0.05보다 훨씬 작은 값으로 나타나며, 이는 year 변수와 number 변수 간의 상관관계가 통계적으로 유의하다는 것을 의미합니다. 95% 신뢰구간도 구해졌는데, 이를 통해 이 상관관계가 실제로 존재할 가능성이 높다는 것을 알 수 있습니다."
   ]
  },
  {
   "cell_type": "code",
   "execution_count": 150,
   "metadata": {
    "vscode": {
     "languageId": "r"
    }
   },
   "outputs": [
    {
     "data": {
      "text/plain": [
       "\n",
       "\tPearson's product-moment correlation\n",
       "\n",
       "data:  planets_imp_complete$year and planets_imp_complete$distance\n",
       "t = 6.4077, df = 1033, p-value = 2.242e-10\n",
       "alternative hypothesis: true correlation is not equal to 0\n",
       "95 percent confidence interval:\n",
       " 0.1362051 0.2534338\n",
       "sample estimates:\n",
       "      cor \n",
       "0.1955178 \n"
      ]
     },
     "metadata": {},
     "output_type": "display_data"
    }
   ],
   "source": [
    "cor.test(planets_imp_complete$year, planets_imp_complete$distance)"
   ]
  },
  {
   "cell_type": "code",
   "execution_count": 151,
   "metadata": {
    "vscode": {
     "languageId": "r"
    }
   },
   "outputs": [
    {
     "name": "stderr",
     "output_type": "stream",
     "text": [
      "\u001b[1m\u001b[22m`geom_smooth()` using formula = 'y ~ x'\n"
     ]
    },
    {
     "data": {
      "image/png": "[encoded data removed]",
      "text/plain": [
       "plot without title"
      ]
     },
     "metadata": {
      "image/png": {
       "height": 420,
       "width": 420
      }
     },
     "output_type": "display_data"
    }
   ],
   "source": [
    "# year가 증가할수록 더 멀리있는 행성도 관측가능할 것이다.\n",
    "correlation <- cor(planets_imp_complete$year, planets_imp_complete$distance)\n",
    "ggplot(planets_imp_complete, aes(x = year, y = distance)) +\n",
    "  geom_point() +\n",
    "  labs(title = \"Correlation between year and distance\",\n",
    "       x = \"Year\",\n",
    "       y = \"Distance\") +\n",
    "  geom_smooth(method = \"lm\", se = FALSE) +\n",
    "  annotate(\"text\", x = 2000, y = 5, label = paste(\"Correlation:\", round(correlation, 3)))"
   ]
  },
  {
   "cell_type": "code",
   "execution_count": 153,
   "metadata": {
    "vscode": {
     "languageId": "r"
    }
   },
   "outputs": [
    {
     "data": {
      "text/plain": [
       "\n",
       "\tPearson's product-moment correlation\n",
       "\n",
       "data:  planets_imp_complete$year and planets_imp_complete$mass\n",
       "t = -3.0373, df = 1033, p-value = 0.002447\n",
       "alternative hypothesis: true correlation is not equal to 0\n",
       "95 percent confidence interval:\n",
       " -0.15413307 -0.03333696\n",
       "sample estimates:\n",
       "        cor \n",
       "-0.09408127 \n"
      ]
     },
     "metadata": {},
     "output_type": "display_data"
    }
   ],
   "source": [
    "# 질량이 클 수록 더 빨리 발견 되었을 것이다.\n",
    "cor.test(planets_imp_complete$year, planets_imp_complete$mass)"
   ]
  },
  {
   "cell_type": "code",
   "execution_count": 83,
   "metadata": {
    "vscode": {
     "languageId": "r"
    }
   },
   "outputs": [
    {
     "name": "stderr",
     "output_type": "stream",
     "text": [
      "\u001b[1m\u001b[22m`geom_smooth()` using formula = 'y ~ x'\n"
     ]
    },
    {
     "data": {
      "image/png": "[encoded data removed]",
      "text/plain": [
       "plot without title"
      ]
     },
     "metadata": {
      "image/png": {
       "height": 420,
       "width": 420
      }
     },
     "output_type": "display_data"
    }
   ],
   "source": [
    "# 상관분석\n",
    "correlation <- cor(planets_imp_complete$mass, planets_imp_complete$year)\n",
    "\n",
    "# 산점도 및 회귀선 시각화\n",
    "ggplot(planets_imp_complete, aes(x = year, y = mass)) +\n",
    "  geom_point(alpha = 0.5) +\n",
    "  geom_smooth(method = \"lm\", se = FALSE, color = \"red\") +\n",
    "  labs(title = \"Correlation between Mass and Year\",\n",
    "       x = \"Year\",\n",
    "       y = \"Mass\") +\n",
    "  annotate(\"text\", x = 2005, y = 1.6, label = paste(\"Correlation: \", round(correlation, 2)))"
   ]
  },
  {
   "cell_type": "code",
   "execution_count": 84,
   "metadata": {
    "vscode": {
     "languageId": "r"
    }
   },
   "outputs": [
    {
     "data": {
      "image/png": "[encoded data removed]",
      "text/plain": [
       "plot without title"
      ]
     },
     "metadata": {
      "image/png": {
       "height": 420,
       "width": 420
      }
     },
     "output_type": "display_data"
    }
   ],
   "source": [
    "# 방법에 따라 더 멀리 있는 행성도 관측가능할 것이다.\n",
    "ggplot(planets_imp_complete, aes(x = method, y = distance)) +\n",
    "  geom_boxplot() +\n",
    "  labs(x = \"Method\", y = \"Distance\") +\n",
    "  ggtitle(\"Distance by Method\")"
   ]
  },
  {
   "cell_type": "code",
   "execution_count": 85,
   "metadata": {
    "vscode": {
     "languageId": "r"
    }
   },
   "outputs": [
    {
     "data": {
      "image/png": "[encoded data removed]",
      "text/plain": [
       "plot without title"
      ]
     },
     "metadata": {
      "image/png": {
       "height": 420,
       "width": 420
      }
     },
     "output_type": "display_data"
    }
   ],
   "source": [
    "ggplot(data = planets_imp_complete %>% filter(method %in% c(\"Radial Velocity\", \"Transit\", \"Imaging\")),\n",
    "       aes(x = method, y = distance, color = method)) + \n",
    "  geom_boxplot() + \n",
    "  scale_color_brewer(palette = \"Set1\")"
   ]
  },
  {
   "cell_type": "code",
   "execution_count": 86,
   "metadata": {
    "vscode": {
     "languageId": "r"
    }
   },
   "outputs": [
    {
     "data": {
      "image/png": "[encoded data removed]",
      "text/plain": [
       "plot without title"
      ]
     },
     "metadata": {
      "image/png": {
       "height": 420,
       "width": 420
      }
     },
     "output_type": "display_data"
    }
   ],
   "source": [
    "ggplot(data = planets_imp_complete %>% filter(method %in% c(\"Radial Velocity\", \"Transit\", \"Imaging\")),\n",
    "       aes(x = method, y = distance, color = method)) + \n",
    "  geom_boxplot() + \n",
    "  scale_color_brewer(palette = \"Set1\") + \n",
    "  coord_cartesian(ylim = c(0, 700))"
   ]
  },
  {
   "cell_type": "code",
   "execution_count": 87,
   "metadata": {
    "vscode": {
     "languageId": "r"
    }
   },
   "outputs": [
    {
     "data": {
      "text/plain": [
       "\n",
       "\tPearson's product-moment correlation\n",
       "\n",
       "data:  planets_imp_complete$orbital_period and planets_imp_complete$year\n",
       "t = -1.0519, df = 1033, p-value = 0.2931\n",
       "alternative hypothesis: true correlation is not equal to 0\n",
       "95 percent confidence interval:\n",
       " -0.09345925  0.02828169\n",
       "sample estimates:\n",
       "        cor \n",
       "-0.03271011 \n"
      ]
     },
     "metadata": {},
     "output_type": "display_data"
    }
   ],
   "source": [
    "# orbital이랑 year ?\n",
    "cor.test(planets_imp_complete$orbital_period, planets_imp_complete$year, method = 'pearson')"
   ]
  },
  {
   "cell_type": "markdown",
   "metadata": {},
   "source": [
    "위 결과에서 p-value가 0.82로 유의수준 0.05보다 크므로 귀무가설을 채택합니다. 즉, 'orbital이 클수록 발견 연도가 늦다'는 가설은 통계적으로 유의하지 않은 결과입니다."
   ]
  }
 ],
 "metadata": {
  "kernelspec": {
   "display_name": "R",
   "language": "R",
   "name": "ir"
  },
  "language_info": {
   "codemirror_mode": "r",
   "file_extension": ".r",
   "mimetype": "text/x-r-source",
   "name": "R",
   "pygments_lexer": "r",
   "version": "4.2.2"
  },
  "orig_nbformat": 4,
  "vscode": {
   "interpreter": {
    "hash": "ad2bdc8ecc057115af97d19610ffacc2b4e99fae6737bb82f5d7fb13d2f2c186"
   }
  }
 },
 "nbformat": 4,
 "nbformat_minor": 2
}
